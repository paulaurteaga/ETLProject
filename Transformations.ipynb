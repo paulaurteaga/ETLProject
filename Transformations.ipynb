{
 "cells": [
  {
   "cell_type": "code",
   "execution_count": null,
   "metadata": {},
   "outputs": [],
   "source": [
    "import pandas as pd\n",
    "from sqlalchemy import create_engine"
   ]
  },
  {
   "cell_type": "code",
   "execution_count": null,
   "metadata": {},
   "outputs": [],
   "source": [
    "ebola_file = \"Resources/ebola_2014_2016_clean.csv\"\n",
    "ebola_df = pd.read_csv(ebola_file)\n",
    "ebola_df.head()"
   ]
  },
  {
   "cell_type": "code",
   "execution_count": null,
   "metadata": {},
   "outputs": [],
   "source": [
    "ebola_cols = [\"Country\",\"Date\",\"No. of confirmed cases\",\"No. of confirmed deaths\",\"Tpye \"]\n",
    "print(ebola_cols)"
   ]
  },
  {
   "cell_type": "code",
   "execution_count": null,
   "metadata": {},
   "outputs": [],
   "source": [
    "# ebola_df.columns"
   ]
  },
  {
   "cell_type": "code",
   "execution_count": null,
   "metadata": {},
   "outputs": [],
   "source": [
    "ebola_transformed= ebola_df[ebola_cols].copy()\n",
    "\n",
    "print(ebola_transformed)"
   ]
  },
  {
   "cell_type": "code",
   "execution_count": null,
   "metadata": {},
   "outputs": [],
   "source": [
    "ebola_transformed = ebola_transformed.rename(columns={\"Country\":\"Country\",\n",
    "                                              \"Date\":\"Date_\",\n",
    "                                              \"No. of confirmed cases\":\"Confirmed_Cases\",\n",
    "                                              \"No. of confirmed deaths\":\"Confirmed_Deaths\",\n",
    "                                              \"Tpye\":\"Type_\"\n",
    "    \n",
    "})\n",
    "ebola_transformed.head()"
   ]
  },
  {
   "cell_type": "code",
   "execution_count": null,
   "metadata": {},
   "outputs": [],
   "source": [
    "nCoV_file = \"Resources/2019_nCoV_data.csv\"\n",
    "nCoV_df = pd.read_csv(nCoV_file)\n",
    "nCoV_df.head()"
   ]
  },
  {
   "cell_type": "code",
   "execution_count": null,
   "metadata": {},
   "outputs": [],
   "source": [
    "nCoV_cols = [\"Country\",\"Date\",\"Confirmed\",\"Deaths\",\"Type\"]\n",
    "print(nCoV_cols)"
   ]
  },
  {
   "cell_type": "code",
   "execution_count": null,
   "metadata": {},
   "outputs": [],
   "source": [
    "nCoV_transformed= nCoV_df[nCoV_cols].copy()\n",
    "\n",
    "print(nCoV_transformed)"
   ]
  },
  {
   "cell_type": "code",
   "execution_count": null,
   "metadata": {},
   "outputs": [],
   "source": [
    "nCoV_transformed = nCoV_transformed.rename(columns={\"Country\":\"Country\",\n",
    "                                              \"Date\":\"Date_\",\n",
    "                                              \"Confirmed\":\"Confirmed_Cases\",\n",
    "                                              \"Deaths\":\"Confirmed_Deaths\",\n",
    "                                              \"Type\":\"Type_\"\n",
    "    \n",
    "})\n",
    "nCoV_transformed.head()"
   ]
  },
  {
   "cell_type": "code",
   "execution_count": null,
   "metadata": {},
   "outputs": [],
   "source": [
    "sars_file = \"Resources/sars_2003_complete_dataset_clean.csv\"\n",
    "sars_df = pd.read_csv(sars_file)\n",
    "sars_df.head()"
   ]
  },
  {
   "cell_type": "code",
   "execution_count": null,
   "metadata": {},
   "outputs": [],
   "source": [
    "sars_cols = [\"Date\", \"Country\", \"Cumulative number of case(s)\", \"Number of deaths\", \"type\"]\n",
    "\n",
    "sars_transformed= sars_df[sars_cols].copy()\n",
    "\n",
    "print(sars_transformed)"
   ]
  },
  {
   "cell_type": "code",
   "execution_count": null,
   "metadata": {},
   "outputs": [],
   "source": [
    "sars_df.columns"
   ]
  },
  {
   "cell_type": "code",
   "execution_count": null,
   "metadata": {},
   "outputs": [],
   "source": [
    "sars_transformed = sars_transformed.rename(columns={\"Country\":\"Country\",\n",
    "                                              \"Date\":\"Date_\",\n",
    "                                              \"Cumulative number of case(s)\":\"Confirmed_Cases\",\n",
    "                                              \"Number of deaths\":\"Confirmed_Deaths\",\n",
    "                                              \"Type\":\"Type_\"\n",
    "    \n",
    "})\n",
    "\n",
    "sars_transformed.head()"
   ]
  },
  {
   "cell_type": "code",
   "execution_count": null,
   "metadata": {},
   "outputs": [],
   "source": [
    "sars_transformed[\"Country\"].replace({\"Hong Kong SAR, China\": \"China\"}).head()"
   ]
  },
  {
   "cell_type": "code",
   "execution_count": null,
   "metadata": {},
   "outputs": [],
   "source": [
    "connection_string = \"etl:etl@localhost:5432/ETL_db\"\n",
    "engine = create_engine(f'postgresql://{connection_string}')"
   ]
  },
  {
   "cell_type": "code",
   "execution_count": null,
   "metadata": {},
   "outputs": [],
   "source": [
    "engine.table_names()"
   ]
  }
 ],
 "metadata": {
  "kernelspec": {
   "display_name": "Python 3",
   "language": "python",
   "name": "python3"
  },
  "language_info": {
   "codemirror_mode": {
    "name": "ipython",
    "version": 3
   },
   "file_extension": ".py",
   "mimetype": "text/x-python",
   "name": "python",
   "nbconvert_exporter": "python",
   "pygments_lexer": "ipython3",
   "version": "3.7.4"
  }
 },
 "nbformat": 4,
 "nbformat_minor": 2
}
